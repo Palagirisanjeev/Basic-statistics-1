{
  "nbformat": 4,
  "nbformat_minor": 0,
  "metadata": {
    "colab": {
      "provenance": [],
      "authorship_tag": "ABX9TyP22n3/welnCy1FKfVVGnB6",
      "include_colab_link": true
    },
    "kernelspec": {
      "name": "python3",
      "display_name": "Python 3"
    },
    "language_info": {
      "name": "python"
    }
  },
  "cells": [
    {
      "cell_type": "markdown",
      "metadata": {
        "id": "view-in-github",
        "colab_type": "text"
      },
      "source": [
        "<a href=\"https://colab.research.google.com/github/Palagirisanjeev/Basic-statistics-1/blob/main/Q11_assignment_1_Basics.ipynb\" target=\"_parent\"><img src=\"https://colab.research.google.com/assets/colab-badge.svg\" alt=\"Open In Colab\"/></a>"
      ]
    },
    {
      "cell_type": "code",
      "source": [
        "from scipy import stats"
      ],
      "metadata": {
        "id": "SG3lKZNMfS8w"
      },
      "execution_count": 2,
      "outputs": []
    },
    {
      "cell_type": "code",
      "source": [
        "#n=2000 ,mean = 200 , S.D = 30 (sample data)"
      ],
      "metadata": {
        "id": "HzLjJGj-fcnv"
      },
      "execution_count": 3,
      "outputs": []
    },
    {
      "cell_type": "code",
      "source": [
        "#Confidence Interval for 94%\n",
        "stats.t.interval(0.94,1999,200,30)"
      ],
      "metadata": {
        "colab": {
          "base_uri": "https://localhost:8080/"
        },
        "id": "7NAMhOPZffSo",
        "outputId": "3a368e4d-8b4e-4a4e-aafc-5d6f241394c1"
      },
      "execution_count": 4,
      "outputs": [
        {
          "output_type": "execute_result",
          "data": {
            "text/plain": [
              "(143.54415570565965, 256.45584429434035)"
            ]
          },
          "metadata": {},
          "execution_count": 4
        }
      ]
    },
    {
      "cell_type": "code",
      "source": [
        "#Confidence Interval for 98%\n",
        "stats.t.interval(0.98,1999,200,30)"
      ],
      "metadata": {
        "colab": {
          "base_uri": "https://localhost:8080/"
        },
        "id": "wOprTy35fjbb",
        "outputId": "50e347a0-22e0-46ae-9f7a-6f4554f8e357"
      },
      "execution_count": 5,
      "outputs": [
        {
          "output_type": "execute_result",
          "data": {
            "text/plain": [
              "(130.15355671679083, 269.84644328320917)"
            ]
          },
          "metadata": {},
          "execution_count": 5
        }
      ]
    },
    {
      "cell_type": "code",
      "source": [
        "#Confidence Interval for 96%\n",
        "stats.t.interval(0.96,1999,200,30)"
      ],
      "metadata": {
        "colab": {
          "base_uri": "https://localhost:8080/"
        },
        "id": "QOkmHbDDfrD7",
        "outputId": "a426ec1e-9907-4920-cf13-c44790f7293f"
      },
      "execution_count": 6,
      "outputs": [
        {
          "output_type": "execute_result",
          "data": {
            "text/plain": [
              "(138.34730111522666, 261.6526988847733)"
            ]
          },
          "metadata": {},
          "execution_count": 6
        }
      ]
    },
    {
      "cell_type": "code",
      "source": [],
      "metadata": {
        "id": "tQBHR-WNfv9K"
      },
      "execution_count": null,
      "outputs": []
    }
  ]
}